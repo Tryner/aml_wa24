{
 "cells": [
  {
   "cell_type": "code",
   "execution_count": 2,
   "metadata": {},
   "outputs": [],
   "source": [
    "from importlib.resources import files\n",
    "\n",
    "import polars as pl\n",
    "from sentence_transformers import SentenceTransformer\n",
    "from datasets import load_dataset\n",
    "import torch\n",
    "\n",
    "from aml_wa24 import models"
   ]
  },
  {
   "cell_type": "code",
   "execution_count": null,
   "metadata": {},
   "outputs": [],
   "source": [
    "sst2 = load_dataset(\"sst2\", split=\"train\").to_polars() # sst2 is a textclassification task, more specifically sentiment analysis. (0 is negative sentiment, 1 positive sentiment)\n",
    "sst2"
   ]
  },
  {
   "cell_type": "code",
   "execution_count": 4,
   "metadata": {},
   "outputs": [],
   "source": [
    "eval_size = 1000\n",
    "train_size = 1000\n",
    "assert eval_size + train_size <= len(sst2) # ensure that the training data does not contain evaluation data\n",
    "\n",
    "sst2 = sst2.sample(fraction=1, shuffle=True, seed=42) # shuffle df\n",
    "eval_df = sst2.head(eval_size)\n",
    "train_df = sst2.tail(train_size)"
   ]
  },
  {
   "cell_type": "code",
   "execution_count": null,
   "metadata": {},
   "outputs": [],
   "source": [
    "encoder = SentenceTransformer(str(files(models).joinpath(\"paraphrase-multilingual-MiniLM-L12-v2\")))\n",
    "# the enocder takes some text input and returns a tensor with 384 dimensions.\n",
    "# We will take these 384 dimensions as features for a Neural Network to train a text classifier.\n",
    "# Don't worry about how the encoder works. We will talk abou how the encoder works on day 3, not now.\n",
    "encoding = encoder.encode(\"hello world\", convert_to_tensor=True)\n",
    "print(encoding.shape)\n",
    "encoding"
   ]
  },
  {
   "cell_type": "code",
   "execution_count": 7,
   "metadata": {},
   "outputs": [],
   "source": [
    "def to_torch_dataset(df: pl.DataFrame):\n",
    "    labels = df[\"label\"].to_torch() # convert labels to tensors\n",
    "    texts = df[\"sentence\"].to_list() # get texts as list\n",
    "    features = encoder.encode(texts, convert_to_tensor=True) # convert texts into tensors with encoder\n",
    "    torch_dataset = torch.utils.data.TensorDataset(features, labels) # create a dataset with features and labels\n",
    "    return torch_dataset"
   ]
  },
  {
   "cell_type": "code",
   "execution_count": 8,
   "metadata": {},
   "outputs": [],
   "source": [
    "batch_size = 4\n",
    "\n",
    "train_dataset = to_torch_dataset(df=train_df)\n",
    "train_loader = torch.utils.data.DataLoader(dataset=train_dataset, batch_size=batch_size, shuffle=True)\n",
    "\n",
    "eval_dataset = to_torch_dataset(df=eval_df)\n",
    "eval_loader = torch.utils.data.DataLoader(dataset=eval_dataset, batch_size=batch_size)"
   ]
  },
  {
   "cell_type": "code",
   "execution_count": 9,
   "metadata": {},
   "outputs": [],
   "source": [
    "# Task 1: Train a basic Text classifier based on what you learned in the previous notebook\n",
    "# Step 1: Define a model, a loss and an Optimzer.\n",
    "# Step 2: Write a training loop with evaluation to train the model.\n",
    "# Tip: You can copy the code from the torch_training notebook."
   ]
  },
  {
   "cell_type": "code",
   "execution_count": null,
   "metadata": {},
   "outputs": [],
   "source": [
    "# Task 2:\n",
    "# Write a method that takes some string as an input and return the prediction (positive/negative sentiment)"
   ]
  },
  {
   "cell_type": "code",
   "execution_count": null,
   "metadata": {},
   "outputs": [],
   "source": [
    "# Optional Task:\n",
    "# Use a different Model from the downloaded models."
   ]
  },
  {
   "cell_type": "code",
   "execution_count": null,
   "metadata": {},
   "outputs": [],
   "source": [
    "# Optional Task:\n",
    "# Find some different textclassification datasets online and try them out."
   ]
  },
  {
   "cell_type": "code",
   "execution_count": null,
   "metadata": {},
   "outputs": [],
   "source": [
    "# Tip: The Tasks from the previous notebook pretty much also apply to this one."
   ]
  }
 ],
 "metadata": {
  "kernelspec": {
   "display_name": "venv",
   "language": "python",
   "name": "python3"
  },
  "language_info": {
   "codemirror_mode": {
    "name": "ipython",
    "version": 3
   },
   "file_extension": ".py",
   "mimetype": "text/x-python",
   "name": "python",
   "nbconvert_exporter": "python",
   "pygments_lexer": "ipython3",
   "version": "3.12.7"
  }
 },
 "nbformat": 4,
 "nbformat_minor": 2
}
