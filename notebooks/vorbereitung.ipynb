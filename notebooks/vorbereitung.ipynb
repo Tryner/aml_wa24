{
 "cells": [
  {
   "cell_type": "code",
   "execution_count": null,
   "metadata": {},
   "outputs": [],
   "source": [
    "print(\"Hallo Welt!\")\n",
    "from importlib.resources import files\n",
    "\n",
    "from sentence_transformers import SentenceTransformer\n",
    "\n",
    "from aml_wa24 import models"
   ]
  },
  {
   "cell_type": "code",
   "execution_count": null,
   "metadata": {},
   "outputs": [],
   "source": [
    "print(\"Hello World!\")\n",
    "for model_name in [\"paraphrase-multilingual-MiniLM-L12-v2\", \"all-MiniLM-L6-v2\", \"paraphrase-MiniLM-L3-v2\"]:\n",
    "    model = SentenceTransformer(model_name)\n",
    "    save_path = str(files(models).joinpath(model_name))\n",
    "    model.save(save_path)\n",
    "    model = SentenceTransformer(save_path)\n",
    "    print(model.device)\n",
    "    print(model.encode(\"Hello World!\"))\n",
    "print(\"success!\")"
   ]
  }
 ],
 "metadata": {
  "kernelspec": {
   "display_name": "venv",
   "language": "python",
   "name": "python3"
  },
  "language_info": {
   "codemirror_mode": {
    "name": "ipython",
    "version": 3
   },
   "file_extension": ".py",
   "mimetype": "text/x-python",
   "name": "python",
   "nbconvert_exporter": "python",
   "pygments_lexer": "ipython3",
   "version": "3.12.7"
  }
 },
 "nbformat": 4,
 "nbformat_minor": 2
}
